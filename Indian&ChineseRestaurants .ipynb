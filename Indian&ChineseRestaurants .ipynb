{
    "cells": [
        {
            "cell_type": "markdown",
            "metadata": {
                "collapsed": true
            },
            "source": "# Capstone Project - The Battle of Neighborhoods (Week 1-2)"
        },
        {
            "cell_type": "markdown",
            "metadata": {},
            "source": "## Introduction"
        },
        {
            "cell_type": "markdown",
            "metadata": {},
            "source": "### Background "
        },
        {
            "cell_type": "markdown",
            "metadata": {},
            "source": "New York City's demographics show that it is a large and ethnically diverse metropolis. It is the largest city in the United States with a long history of international immigration. New York City was home to nearly 8.5 million people in 2014. \nWhile English remains the most widely spoken language, there are areas in the outer boroughs in which up to 25% of people speak English only as an alternate language. \n\nIndians are the largest South Asian group, comprising 2.4% of the city's population, among the largest in the US cities. New york city also sees a lot of tourists consuming at local buissness. At 65.2 million the number of tourists is many times the population of the city at 8.1 million. New york city also sees a lot of commute from outside the city. Tourists and commuters indicate that residential data alone might not be a good indicator of the consumption patterns in the city. All of these factors make New York city a unique problem for data analysis. \n\nIndian are highly popular in the united states. These restaurants attract a diverse set of people, and not just Indian origin people. This suggests factors other than just ethnicity of the poeple wouldn't dictate the presence of an Indian restaurant. Determining the reason for the presence of an Indian restaurant would open up data savvy entreprenuer to find neighborhoods to open an Indian restaurant.  \n"
        },
        {
            "cell_type": "markdown",
            "metadata": {},
            "source": "### Buisness Problem: Determine the variable that can predict the presence of Indian restaurants in NYC"
        },
        {
            "cell_type": "markdown",
            "metadata": {},
            "source": "## Data section"
        },
        {
            "cell_type": "code",
            "execution_count": null,
            "metadata": {},
            "outputs": [],
            "source": ""
        },
        {
            "cell_type": "markdown",
            "metadata": {},
            "source": "The data used would two sets of categories the Target and the paramters\nThe Target data would be the number of restaurants per NYC borough. This would be obtained from foursqaure API\nThe data for the parameters would be \n\n    1) People of Indian and other south asian countries Origin from https://www.baruch.cuny.edu/nycdata/population-geography/foreign-birthcountry.htm\n    2) Buissnesses of other categories such as Chinese restaurants, Yoga studios etc from fourrsquare\n    3) General population statistic data https://guides.newman.baruch.cuny.edu/nyc_data/nbhoods\n        Social\n        Economic\n        Housing\n        Demographic\nThe idead is to find correlation between number of indian restaurants and any of the parameters. \n\nInterpolation techniques would be used to find the relationship and the strength of the relationship "
        },
        {
            "cell_type": "markdown",
            "metadata": {},
            "source": "### Data scraping and cleaning\nLoading libraries "
        },
        {
            "cell_type": "code",
            "execution_count": null,
            "metadata": {},
            "outputs": [
                {
                    "name": "stdout",
                    "output_type": "stream",
                    "text": "Solving environment: - "
                }
            ],
            "source": "import numpy as np # library to handle data in a vectorized manner\n\nimport pandas as pd # library for data analsysis\npd.set_option('display.max_columns', None)\npd.set_option('display.max_rows', None)\n\nimport json # library to handle JSON files\n\nimport requests # library to handle requests\nfrom pandas.io.json import json_normalize # tranform JSON file into a pandas dataframe\n\n!conda install -c conda-forge geopy --yes # uncomment this line if you haven't completed the Foursquare API lab\nfrom geopy.geocoders import Nominatim # convert an address into latitude and longitude values\n\nimport requests # library to handle requests\nfrom pandas.io.json import json_normalize # tranform JSON file into a pandas dataframe\n\n# Matplotlib and associated plotting modules\nimport matplotlib.cm as cm\nimport matplotlib.colors as colors\n\n# import k-means from clustering stage\nfrom sklearn.cluster import KMeans\n\n!conda install -c conda-forge folium=0.5.0 --yes # uncomment this line if you haven't completed the Foursquare API lab\nimport folium # map rendering library\n\nprint('Libraries imported.')"
        },
        {
            "cell_type": "markdown",
            "metadata": {},
            "source": "Load Neighboorhood data"
        },
        {
            "cell_type": "code",
            "execution_count": 6,
            "metadata": {},
            "outputs": [
                {
                    "name": "stdout",
                    "output_type": "stream",
                    "text": "Data downloaded!\n"
                },
                {
                    "data": {
                        "text/html": "<div>\n<style scoped>\n    .dataframe tbody tr th:only-of-type {\n        vertical-align: middle;\n    }\n\n    .dataframe tbody tr th {\n        vertical-align: top;\n    }\n\n    .dataframe thead th {\n        text-align: right;\n    }\n</style>\n<table border=\"1\" class=\"dataframe\">\n  <thead>\n    <tr style=\"text-align: right;\">\n      <th></th>\n      <th>Borough</th>\n      <th>Neighborhood</th>\n      <th>Latitude</th>\n      <th>Longitude</th>\n    </tr>\n  </thead>\n  <tbody>\n    <tr>\n      <th>0</th>\n      <td>Bronx</td>\n      <td>Wakefield</td>\n      <td>40.894705</td>\n      <td>-73.847201</td>\n    </tr>\n    <tr>\n      <th>1</th>\n      <td>Bronx</td>\n      <td>Co-op City</td>\n      <td>40.874294</td>\n      <td>-73.829939</td>\n    </tr>\n    <tr>\n      <th>2</th>\n      <td>Bronx</td>\n      <td>Eastchester</td>\n      <td>40.887556</td>\n      <td>-73.827806</td>\n    </tr>\n    <tr>\n      <th>3</th>\n      <td>Bronx</td>\n      <td>Fieldston</td>\n      <td>40.895437</td>\n      <td>-73.905643</td>\n    </tr>\n    <tr>\n      <th>4</th>\n      <td>Bronx</td>\n      <td>Riverdale</td>\n      <td>40.890834</td>\n      <td>-73.912585</td>\n    </tr>\n  </tbody>\n</table>\n</div>",
                        "text/plain": "  Borough Neighborhood   Latitude  Longitude\n0   Bronx    Wakefield  40.894705 -73.847201\n1   Bronx   Co-op City  40.874294 -73.829939\n2   Bronx  Eastchester  40.887556 -73.827806\n3   Bronx    Fieldston  40.895437 -73.905643\n4   Bronx    Riverdale  40.890834 -73.912585"
                    },
                    "execution_count": 6,
                    "metadata": {},
                    "output_type": "execute_result"
                }
            ],
            "source": "!wget -q -O 'newyork_data.json' https://cocl.us/new_york_dataset\nprint('Data downloaded!')\nwith open('newyork_data.json') as json_data:\n    newyork_data = json.load(json_data)\nneighborhoods_data = newyork_data['features']\n# define the dataframe columns\ncolumn_names = ['Borough', 'Neighborhood', 'Latitude', 'Longitude'] \n\n# instantiate the dataframe\nneighborhoods = pd.DataFrame(columns=column_names)\nfor data in neighborhoods_data:\n    borough = neighborhood_name = data['properties']['borough'] \n    neighborhood_name = data['properties']['name']\n        \n    neighborhood_latlon = data['geometry']['coordinates']\n    neighborhood_lat = neighborhood_latlon[1]\n    neighborhood_lon = neighborhood_latlon[0]\n    \n    neighborhoods = neighborhoods.append({'Borough': borough,\n                                          'Neighborhood': neighborhood_name,\n                                          'Latitude': neighborhood_lat,\n                                          'Longitude': neighborhood_lon}, ignore_index=True)\nneighborhoods.head()"
        },
        {
            "cell_type": "markdown",
            "metadata": {},
            "source": "Download indian population statistics"
        },
        {
            "cell_type": "code",
            "execution_count": 24,
            "metadata": {},
            "outputs": [
                {
                    "data": {
                        "text/html": "<div>\n<style scoped>\n    .dataframe tbody tr th:only-of-type {\n        vertical-align: middle;\n    }\n\n    .dataframe tbody tr th {\n        vertical-align: top;\n    }\n\n    .dataframe thead th {\n        text-align: right;\n    }\n</style>\n<table border=\"1\" class=\"dataframe\">\n  <thead>\n    <tr style=\"text-align: right;\">\n      <th></th>\n      <th>borough</th>\n      <th>population</th>\n      <th>totalPopulation</th>\n    </tr>\n  </thead>\n  <tbody>\n    <tr>\n      <th>0</th>\n      <td>Bronx</td>\n      <td>2233</td>\n      <td>535582</td>\n    </tr>\n    <tr>\n      <th>1</th>\n      <td>Brooklyn</td>\n      <td>9335</td>\n      <td>959025</td>\n    </tr>\n    <tr>\n      <th>2</th>\n      <td>Manhattan</td>\n      <td>15992</td>\n      <td>470212</td>\n    </tr>\n    <tr>\n      <th>3</th>\n      <td>Queens</td>\n      <td>48249</td>\n      <td>1115696</td>\n    </tr>\n    <tr>\n      <th>4</th>\n      <td>Staten Island</td>\n      <td>3387</td>\n      <td>114425</td>\n    </tr>\n  </tbody>\n</table>\n</div>",
                        "text/plain": "         borough  population  totalPopulation\n0          Bronx        2233           535582\n1       Brooklyn        9335           959025\n2      Manhattan       15992           470212\n3         Queens       48249          1115696\n4  Staten Island        3387           114425"
                    },
                    "execution_count": 24,
                    "metadata": {},
                    "output_type": "execute_result"
                }
            ],
            "source": "#data from https://www.baruch.cuny.edu/nycdata/population-geography/foreign-birthcountry.htm\npopu = [2233, 9335, 15992, 48249,3387]\ntotPopu = [535582, 959025, 470212, 1115696, 114425]\nboroughs = ['Bronx', 'Brooklyn', 'Manhattan', 'Queens', 'Staten Island']\n\n# create empty data frame in pandas\ndfInds = pd.DataFrame()\ndfInds['borough'] = boroughs\ndfInds['population'] = popu\ndfInds['totalPopulation'] = totPopu\ndfInds.head()"
        },
        {
            "cell_type": "code",
            "execution_count": null,
            "metadata": {},
            "outputs": [],
            "source": "CLIENT_ID = 'ORCWPBRVJMO5Y2P5SNEGUDEM5PLAU4E1CM130VRDGYBBHRN5' # your Foursquare ID\nCLIENT_SECRET = 'VHKPV30MAVOCTZCY12O4PUKWFLS1GSCHZRYXXC5IOOL2DKQV' # your Foursquare Secret\nVERSION = '20180605' # Foursquare API version\n\nprint('Your credentails:')\nprint('CLIENT_ID: ' + CLIENT_ID)\nprint('CLIENT_SECRET:' + CLIENT_SECRET)\n\n\n# type your answer here\n\nLIMIT = 100 # limit of number of venues returned by Foursquare API\n\nradius = 500 # define radius\n\n\nurl = 'https://api.foursquare.com/v2/venues/explore?&client_id={}&client_secret={}&v={}&ll={},{}&radius={}&limit={}'.format(\n    CLIENT_ID, \n    CLIENT_SECRET, \n    VERSION, \n    neighborhood_latitude, \n    neighborhood_longitude, \n    radius, \n    LIMIT)\nurl # display URL\nresults = requests.get(url).json()\n#results\n# function that extracts the category of the venue\ndef get_category_type(row):\n    try:\n        categories_list = row['categories']\n    except:\n        categories_list = row['venue.categories']\n        \n    if len(categories_list) == 0:\n        return None\n    else:\n        return categories_list[0]['name']\n    \n# convert into a dataframe \nvenues = results['response']['groups'][0]['items']\n    \nnearby_venues = json_normalize(venues) # flatten JSON\n\n# filter columns\nfiltered_columns = ['venue.name', 'venue.categories', 'venue.location.lat', 'venue.location.lng']\nnearby_venues =nearby_venues.loc[:, filtered_columns]\n\n# filter the category for each row\nnearby_venues['venue.categories'] = nearby_venues.apply(get_category_type, axis=1)\n\n# clean columns\nnearby_venues.columns = [col.split(\".\")[-1] for col in nearby_venues.columns]\n\nnearby_venues.head()"
        }
    ],
    "metadata": {
        "kernelspec": {
            "display_name": "Python 3.6",
            "language": "python",
            "name": "python3"
        },
        "language_info": {
            "codemirror_mode": {
                "name": "ipython",
                "version": 3
            },
            "file_extension": ".py",
            "mimetype": "text/x-python",
            "name": "python",
            "nbconvert_exporter": "python",
            "pygments_lexer": "ipython3",
            "version": "3.6.8"
        }
    },
    "nbformat": 4,
    "nbformat_minor": 1
}